{
 "cells": [
  {
   "cell_type": "markdown",
   "metadata": {},
   "source": [
    "# Data Programming Approach for annotation and classification of TRUE ADRs"
   ]
  },
  {
   "cell_type": "code",
   "execution_count": 1,
   "metadata": {},
   "outputs": [],
   "source": [
    "import pandas as pd\n",
    "import pickle\n",
    "import sys\n",
    "sys.path.append('/Users/jarvis/Desktop/CODE/sadrat/')\n",
    "\n",
    "from scrapers.helpers import Preprocessing"
   ]
  },
  {
   "cell_type": "code",
   "execution_count": 2,
   "metadata": {},
   "outputs": [],
   "source": [
    "from nltk.tokenize import word_tokenize\n",
    "from nltk.corpus import stopwords\n",
    "from nltk.stem import PorterStemmer\n",
    "import re\n",
    "stop_list = set(stopwords.words('english'))\n",
    "stemmer = PorterStemmer()"
   ]
  },
  {
   "cell_type": "code",
   "execution_count": 3,
   "metadata": {},
   "outputs": [],
   "source": [
    "df = pd.read_csv(\"/Users/jarvis/Desktop/CODE/sadrat/sample/medications_dot_com_data.csv\")"
   ]
  },
  {
   "cell_type": "code",
   "execution_count": 4,
   "metadata": {
    "scrolled": true
   },
   "outputs": [
    {
     "data": {
      "text/html": [
       "<div>\n",
       "<style scoped>\n",
       "    .dataframe tbody tr th:only-of-type {\n",
       "        vertical-align: middle;\n",
       "    }\n",
       "\n",
       "    .dataframe tbody tr th {\n",
       "        vertical-align: top;\n",
       "    }\n",
       "\n",
       "    .dataframe thead th {\n",
       "        text-align: right;\n",
       "    }\n",
       "</style>\n",
       "<table border=\"1\" class=\"dataframe\">\n",
       "  <thead>\n",
       "    <tr style=\"text-align: right;\">\n",
       "      <th></th>\n",
       "      <th>id</th>\n",
       "      <th>drugname</th>\n",
       "      <th>comment</th>\n",
       "    </tr>\n",
       "  </thead>\n",
       "  <tbody>\n",
       "    <tr>\n",
       "      <th>0</th>\n",
       "      <td>0</td>\n",
       "      <td>levaquin</td>\n",
       "      <td>ive been allergic to many antibiotics since I ...</td>\n",
       "    </tr>\n",
       "    <tr>\n",
       "      <th>1</th>\n",
       "      <td>1</td>\n",
       "      <td>levaquin</td>\n",
       "      <td>Was prescribed leviquin for sinus.  Took dose ...</td>\n",
       "    </tr>\n",
       "    <tr>\n",
       "      <th>2</th>\n",
       "      <td>2</td>\n",
       "      <td>levaquin</td>\n",
       "      <td>Been reading the blog - thank God.  Thank God ...</td>\n",
       "    </tr>\n",
       "    <tr>\n",
       "      <th>3</th>\n",
       "      <td>3</td>\n",
       "      <td>levaquin</td>\n",
       "      <td>1/14/2012. I was given Levaquin and two steroi...</td>\n",
       "    </tr>\n",
       "    <tr>\n",
       "      <th>4</th>\n",
       "      <td>4</td>\n",
       "      <td>levaquin</td>\n",
       "      <td>today was my 3rd day of taking levaquin. i suf...</td>\n",
       "    </tr>\n",
       "  </tbody>\n",
       "</table>\n",
       "</div>"
      ],
      "text/plain": [
       "   id  drugname                                            comment\n",
       "0   0  levaquin  ive been allergic to many antibiotics since I ...\n",
       "1   1  levaquin  Was prescribed leviquin for sinus.  Took dose ...\n",
       "2   2  levaquin  Been reading the blog - thank God.  Thank God ...\n",
       "3   3  levaquin  1/14/2012. I was given Levaquin and two steroi...\n",
       "4   4  levaquin  today was my 3rd day of taking levaquin. i suf..."
      ]
     },
     "execution_count": 4,
     "metadata": {},
     "output_type": "execute_result"
    }
   ],
   "source": [
    "df.head()"
   ]
  },
  {
   "cell_type": "code",
   "execution_count": 5,
   "metadata": {},
   "outputs": [
    {
     "data": {
      "text/plain": [
       "\"Dee1967 I was been placed on Lisinopril 20mg's daily.Since then i have had severe body pains,weakness in arm's leg's,vision impairment,hairloss,cough,sore throat severe dry mouth,blistering on the back of my tongue.It is so bad i cannot lift my arm's or\\xa0... more »Dee1967 I was been placed on Lisinopril 20mg's daily.Since then i have had severe body pains,weakness in arm's leg's,vision impairment,hairloss,cough,sore throat severe dry mouth,blistering on the back of my tongue.It is so bad i cannot lift my arm's or walk some day's.My vision is so bad at time's i cannot even read a simple sentence.And the dizziness is severe.Nauseated constantly and weigh gain.This drug is dangerous! I have taken myself off of this drug,but the side effect's are severe and have not subsided.Their were some day's my throat felt so enlarged i could not swallow,it is and was a very tramatic experience.To lift a pillow at time's was a job.The pain and numbness esp at night scared me.\""
      ]
     },
     "execution_count": 5,
     "metadata": {},
     "output_type": "execute_result"
    }
   ],
   "source": [
    "#looking at the comments to have an intuition for labelling functions\n",
    "#PLEASE NOTE THAT I MADE A SILLY MISTAKE WHILE NAMING MY COLUMN IN THE DATASET, THERE'S A SPACE BEFORE \n",
    "# \"comment\" AND \"drugname\". WRITE IT AS \" comment\" and \" drugname\". \n",
    "df[\" comment\"][13]"
   ]
  },
  {
   "cell_type": "markdown",
   "metadata": {},
   "source": [
    "### Getting the dictionary of drugs and their known side effects scraped from drugs.com website."
   ]
  },
  {
   "cell_type": "code",
   "execution_count": 6,
   "metadata": {},
   "outputs": [],
   "source": [
    "with open(\"/Users/jarvis/Desktop/CODE/sadrat/datasets/drug_adr\", \"rb\") as file:\n",
    "    drugs = pickle.load(file)\n",
    "file.close()"
   ]
  },
  {
   "cell_type": "markdown",
   "metadata": {},
   "source": [
    "# Labelling Functions"
   ]
  },
  {
   "cell_type": "code",
   "execution_count": 7,
   "metadata": {},
   "outputs": [],
   "source": [
    "# defining constants for clarity\n",
    "ADR = 1\n",
    "ABSTAIN = -1\n",
    "NOADR = 0"
   ]
  },
  {
   "cell_type": "code",
   "execution_count": 8,
   "metadata": {},
   "outputs": [],
   "source": [
    "from snorkel.labeling import labeling_function"
   ]
  },
  {
   "cell_type": "markdown",
   "metadata": {},
   "source": [
    "## LF1: Sentiment Analysis\n",
    "The ADRs are usually written with a negative tone so starting with sentiment analysis as the first labelling function is a good start : )"
   ]
  },
  {
   "cell_type": "code",
   "execution_count": 9,
   "metadata": {},
   "outputs": [],
   "source": [
    "from snorkel.preprocess import preprocessor\n",
    "from textblob import TextBlob"
   ]
  },
  {
   "cell_type": "code",
   "execution_count": 10,
   "metadata": {},
   "outputs": [],
   "source": [
    "import matplotlib.pyplot as plt"
   ]
  },
  {
   "cell_type": "code",
   "execution_count": 11,
   "metadata": {},
   "outputs": [],
   "source": [
    "@preprocessor(memoize=True)\n",
    "# type(x) - pandas Series\n",
    "def textblob_sentiment(x):\n",
    "    scores = TextBlob(x[\" comment\"])\n",
    "    x.polarity = scores.sentiment.polarity\n",
    "    x.subjectivity = scores.sentiment.subjectivity\n",
    "    return x"
   ]
  },
  {
   "cell_type": "code",
   "execution_count": 12,
   "metadata": {},
   "outputs": [],
   "source": [
    "comment_polarities = [textblob_sentiment(x).polarity for _, x in df.iterrows()]\n",
    "comment_subjectivities = [textblob_sentiment(x).subjectivity for _, x in df.iterrows()]"
   ]
  },
  {
   "cell_type": "markdown",
   "metadata": {},
   "source": [
    "#### NOTE:\n",
    "Polarity is float which lies in the range of [-1,1] where 1 means positive statement and -1 means a negative statement. Subjective sentences generally refer to personal opinion, emotion or judgment whereas objective refers to factual information. Subjectivity is also a float which lies in the range of [0,1]. <br>\n",
    "**Hence a probable ADR must have low polarity and high subjectivity**"
   ]
  },
  {
   "cell_type": "code",
   "execution_count": 13,
   "metadata": {},
   "outputs": [
    {
     "data": {
      "image/png": "[encoded data removed]",
      "text/plain": [
       "<Figure size 432x288 with 2 Axes>"
      ]
     },
     "metadata": {
      "needs_background": "light"
     },
     "output_type": "display_data"
    }
   ],
   "source": [
    "# plotting the data\n",
    "plt.subplot(1,2,1)\n",
    "plt.hist(comment_polarities, bins=10)\n",
    "plt.title(\"comment polarity distribution\")\n",
    "plt.xlabel(\"polarity\")\n",
    "plt.ylabel(\"no.of comments\")\n",
    "plt.subplots_adjust(hspace=1, left=0.225, right=2, wspace=0.2)\n",
    "\n",
    "plt.subplot(1,2,2)\n",
    "plt.hist(comment_subjectivities, bins=10)\n",
    "plt.title(\"comment subjectivity distribution\")\n",
    "plt.xlabel(\"subjectivity\")\n",
    "plt.ylabel(\"no.of comments\")\n",
    "plt.savefig(\"sentiment_analysis2.png\", bbox_inches=\"tight\", dpi=300, pad_inches=0.1)\n",
    "plt.show()\n"
   ]
  },
  {
   "cell_type": "code",
   "execution_count": 14,
   "metadata": {},
   "outputs": [],
   "source": [
    "@labeling_function(pre=[textblob_sentiment])\n",
    "def textblob_polarity(x):\n",
    "    return ADR if x.polarity < 0 else ABSTAIN"
   ]
  },
  {
   "cell_type": "code",
   "execution_count": 15,
   "metadata": {},
   "outputs": [],
   "source": [
    "@labeling_function(pre=[textblob_sentiment])\n",
    "def textblob_subjectivity(x):\n",
    "    return ADR if x.subjectivity > 0.6 else ABSTAIN"
   ]
  },
  {
   "cell_type": "markdown",
   "metadata": {},
   "source": [
    "# LF2: Based on Known ADRs - Distant Supervision\n",
    "Return 1 if ADR for the given drug is already known else return 0.<br>\n",
    "Use the preprocessing function from helpers.py"
   ]
  },
  {
   "cell_type": "markdown",
   "metadata": {},
   "source": [
    "### \\# Semantic Similarity (used by LF2)\n",
    "Finding the semantic similarity between the user comment and all the known adr for the particular drug"
   ]
  },
  {
   "cell_type": "code",
   "execution_count": 1,
   "metadata": {},
   "outputs": [],
   "source": [
    "def semantic_similarity(comment):\n",
    "    \"\"\"\n",
    "    @params: \n",
    "            type(comment): string\n",
    "            \n",
    "    credits: geeksforgeeks.org for some part of the below code\n",
    "    https://www.geeksforgeeks.org/python-measure-similarity-between-two-sentences-using-cosine-similarity/\n",
    "    \"\"\"\n",
    "    p = Preprocessing()\n",
    "    extracted_drugs_list = list()\n",
    "    known_adr = \"\"\n",
    "    clean_comment = p.simple_preprocessor_string(comment)\n",
    "    for word in clean_comment.split():\n",
    "        if word.capitalize() in drugs.keys():\n",
    "            extracted_drugs_list.append(word)\n",
    "            for adr in drugs[word.capitalize()]:\n",
    "                known_adr = known_adr + adr\n",
    "        else:\n",
    "            continue\n",
    "#     print(known_adr)\n",
    "    # clean the adr sentence\n",
    "    known_adr = re.sub('[,-]','',known_adr)\n",
    "    \n",
    "    ### calculate cosine similarity between known_adr and clean_comment\n",
    "    l1 = list()\n",
    "    l2 = list()\n",
    "    #tokenize the strings\n",
    "    clean_comment_set = {x for x in word_tokenize(clean_comment)}\n",
    "    known_adr_set = {x for x in word_tokenize(known_adr)}\n",
    "    \n",
    "    #form a set containing keywords of both strings\n",
    "    rvec = clean_comment_set.union(known_adr_set)\n",
    "    \n",
    "    for w in rvec:\n",
    "        if w in clean_comment_set:\n",
    "            l1.append(1)\n",
    "        else:\n",
    "            l1.append(0)\n",
    "        if w in known_adr_set:\n",
    "            l2.append(1)\n",
    "        else:\n",
    "            l2.append(0)\n",
    "    c = 0\n",
    "    \n",
    "    # cosine formula\n",
    "    for i in range(len(rvec)):\n",
    "        c = c + l1[i]*l2[i]\n",
    "        \n",
    "    if (sum(l1) and sum(l2)) != 0:\n",
    "        cosine_similarity_score = c/float(sum(l1)*sum(l2)**0.5)\n",
    "        return cosine_similarity_score\n",
    "    else:\n",
    "        return 0"
   ]
  },
  {
   "cell_type": "code",
   "execution_count": 17,
   "metadata": {},
   "outputs": [
    {
     "name": "stdout",
     "output_type": "stream",
     "text": [
      "0.007190916418846245\n"
     ]
    }
   ],
   "source": [
    "# test semantic_similarity\n",
    "print(semantic_similarity(\"Dee1967 I was been placed on Lisinopril 20mg's daily.Since then i have had severe body pains,weakness in arm's leg's,vision impairment,hairloss,cough,sore throat severe dry mouth,blistering on the back of my tongue.It is so bad i cannot lift my arm's or\\xa0... more »Dee1967 I was been placed on Lisinopril 20mg's daily.Since then i have had severe body pains,weakness in arm's leg's,vision impairment,hairloss,cough,sore throat severe dry mouth,blistering on the back of my tongue.It is so bad i cannot lift my arm's or walk some day's.My vision is so bad at time's i cannot even read a simple sentence.And the dizziness is severe.Nauseated constantly and weigh gain.This drug is dangerous! I have taken myself off of this drug,but the side effect's are severe and have not subsided.Their were some day's my throat felt so enlarged i could not swallow,it is and was a very tramatic experience.To lift a pillow at time's was a job.The pain and numbness esp at night scared me.\"))"
   ]
  },
  {
   "cell_type": "code",
   "execution_count": 18,
   "metadata": {},
   "outputs": [
    {
     "data": {
      "image/png": "[encoded data removed]",
      "text/plain": [
       "<Figure size 432x288 with 1 Axes>"
      ]
     },
     "metadata": {
      "needs_background": "light"
     },
     "output_type": "display_data"
    }
   ],
   "source": [
    "# plot semantic similarity over all datapoints\n",
    "Y = list()\n",
    "P = list()\n",
    "for _, x in df.iterrows():\n",
    "    Y.append(semantic_similarity(x[\" comment\"]))\n",
    "    \n",
    "plt.title(\"distribution of semantic similarity scores\")\n",
    "plt.hist(Y, bins = 10)\n",
    "plt.savefig(\"sentiment_analysis2.png\", bbox_inches=\"tight\", dpi=300, pad_inches=0.1)\n",
    "plt.show()"
   ]
  },
  {
   "cell_type": "code",
   "execution_count": 19,
   "metadata": {},
   "outputs": [],
   "source": [
    "@labeling_function()\n",
    "def distant_supervision(x):\n",
    "    \"\"\"\n",
    "    @params: type(x) - pandas series object\n",
    "    \"\"\"\n",
    "    if semantic_similarity(x[\" comment\"]) == 0:\n",
    "        return ABSTAIN\n",
    "    else:\n",
    "        return ADR"
   ]
  },
  {
   "cell_type": "code",
   "execution_count": 20,
   "metadata": {},
   "outputs": [],
   "source": [
    "### DEPRECATED\n",
    "### @labeling_function()\n",
    "### DEPRECATED: WE ARE NOT USING THIS FUNCTION ANYMORE\n",
    "def distant_supervision_deprecated(x):\n",
    "    \"\"\"\n",
    "    @params: type(x): str\n",
    "    return 1 if ADR is a known ADR and 0 if not known ADR\n",
    "    \"\"\"\n",
    "    extracted_drugs_list = list()\n",
    "    known_adr_list = list()\n",
    "    # Preprocess the string\n",
    "    p = Preprocessing()\n",
    "    clean_text = p.simple_preprocessor_string(x)\n",
    "    clean_text = word_tokenize(clean_text)\n",
    "    for word in clean_text:\n",
    "        if word.capitalize() in drugs.keys():\n",
    "            extracted_drugs_list.append(word.capitalize())\n",
    "            known_adr_list.append(drugs[word.capitalize()])\n",
    "        else:\n",
    "            continue\n",
    "    if len(extracted_drugs_list) != 0:\n",
    "        phrases = list()\n",
    "        clean_phrase = \"\"\n",
    "        # make a single sentence with lemmatization\n",
    "        for i in range(len(known_adr_list)):\n",
    "            for phrase in known_adr_list[i]:\n",
    "                # tokenize, remove stop words and lemmatize\n",
    "                word_tokens = word_tokenize(phrase)\n",
    "                filtered_phrase = [word for word in word_tokens if not word in stop_list]\n",
    "                for word in filtered_phrase:\n",
    "                    clean_phrase = clean_phrase + stemmer.stem(word) + \" \"\n",
    "                phrases.append(clean_phrase)\n",
    "    else:\n",
    "        return -1\n",
    "    \n",
    "    clean_sentence = \"\"\n",
    "    for clean_word in clean_text:\n",
    "        clean_sentence = clean_sentence + stemmer.stem(clean_word) + \" \"\n",
    "    \n",
    "    print(clean_sentence)\n",
    "    print(phrases)\n",
    "    matched_phrases = phrase_matcher_ADR(clean_sentence, phrases)\n",
    "    print(matched_phrases)\n",
    "#     print(known_adr_list)\n",
    "#     print(extracted_drugs_list)"
   ]
  },
  {
   "cell_type": "markdown",
   "metadata": {},
   "source": [
    "## LF3: Clustering with TF.IDF Vectorization and KNN \n",
    "In this LF(LF3), We implement non-hierarchial clustering with two or three clusters, we then have to use another LF(say LF2) to determine the cluster that has higher number of positive ADRs and the one with the lower/lowest number of positive ADRs."
   ]
  },
  {
   "cell_type": "code",
   "execution_count": 22,
   "metadata": {},
   "outputs": [],
   "source": [
    "from sklearn.feature_extraction.text import TfidfVectorizer\n",
    "from sklearn.cluster import KMeans\n",
    "from sklearn.metrics import adjusted_rand_score"
   ]
  },
  {
   "cell_type": "code",
   "execution_count": 5,
   "metadata": {},
   "outputs": [],
   "source": [
    "df = pd.read_csv(\"/Users/jarvis/Desktop/CODE/sadrat/sample/medications_dot_com_data.csv\")"
   ]
  },
  {
   "cell_type": "code",
   "execution_count": 6,
   "metadata": {},
   "outputs": [],
   "source": [
    "def clustering(x):\n",
    "    \"\"\"\n",
    "    @params: type(x): list of raw documents(list of strings)\n",
    "    \"\"\"\n",
    "    if len(x) == 0:\n",
    "        raise Exception(\"Size of input list should be greater than 0\")\n",
    "    \n",
    "    K = 3  # value of K in KNN\n",
    "    \n",
    "    # Preprocess documents(document is just another way of saying a sentence)\n",
    "    p = Preprocessing()\n",
    "    clean_corpus = list()\n",
    "    for doc in x:\n",
    "        if(type(doc) != str):\n",
    "            raise Exception(\"The input list must contain string datatype\")\n",
    "        clean_doc = p.simple_preprocessor_string(doc)\n",
    "        \n",
    "        #case when after preprocessing nothing remains in the string (useless document)\n",
    "        if clean_doc == \"\":\n",
    "            continue\n",
    "        else:\n",
    "            clean_corpus.append(clean_doc)\n",
    "        \n",
    "#     print(clean_corpus[1], type(clean_corpus[1]))\n",
    "    vectorizer = TfidfVectorizer()\n",
    "    X = vectorizer.fit_transform(clean_corpus)\n",
    "    model = KMeans(n_clusters=K, init='k-means++')\n",
    "    model.fit(X)\n",
    "    \n",
    "    print(\"Top terms per cluster:\")\n",
    "    order_centroids = model.cluster_centers_.argsort()[:, ::-1]\n",
    "    terms = vectorizer.get_feature_names()\n",
    "    for i in range(K):\n",
    "        print(\"Cluster %d:\" % i)\n",
    "        for ind in order_centroids[i, :10]:\n",
    "            print(terms[ind], end=\" \")\n",
    "        print(\"\\n\")\n"
   ]
  },
  {
   "cell_type": "code",
   "execution_count": 7,
   "metadata": {},
   "outputs": [
    {
     "name": "stdout",
     "output_type": "stream",
     "text": [
      "Top terms per cluster:\n",
      "Cluster 0:\n",
      "pressure cozaar blood high six pain years last side moncler \n",
      "\n",
      "Cluster 1:\n",
      "cipro pain day infection side effects hurts feeling prescribed levaquin \n",
      "\n",
      "Cluster 2:\n",
      "days mg day taking started like took get take time \n",
      "\n"
     ]
    }
   ],
   "source": [
    "# Driver Code\n",
    "raw_corpus = list()\n",
    "for _, x in df.iterrows():\n",
    "    raw_corpus.append(x[\" comment\"])\n",
    "clustering(raw_corpus)"
   ]
  },
  {
   "cell_type": "code",
   "execution_count": 19,
   "metadata": {},
   "outputs": [],
   "source": [
    "# Use the KNN model as labelling Function\n",
    "# TODO:\n",
    "# 1. Identify which cluster represents an ADR better (Requires another LF)\n",
    "# 2. Return -1, 0 or 1 according to the model output\n"
   ]
  },
  {
   "cell_type": "markdown",
   "metadata": {},
   "source": [
    "### LF 4: Look out for any mention of known ADR in the user comment"
   ]
  },
  {
   "cell_type": "markdown",
   "metadata": {},
   "source": [
    "1. Make the Keyword space from the drug dictionary\n",
    "2. Preprocess the user comment \n",
    "3. Use semantic similarity"
   ]
  },
  {
   "cell_type": "code",
   "execution_count": 23,
   "metadata": {},
   "outputs": [],
   "source": [
    "# 1. Create Keywordspace\n",
    "keywordspace = list()\n",
    "for x in drugs.keys():\n",
    "    for p in drugs[x]:\n",
    "        for word in p.split():\n",
    "            if word != \",\" and len(word) > 4 and word not in keywordspace:\n",
    "                keywordspace.append(word)\n",
    "                "
   ]
  },
  {
   "cell_type": "code",
   "execution_count": 24,
   "metadata": {},
   "outputs": [],
   "source": [
    "def adr_term_matching(comment):\n",
    "    \"\"\"\n",
    "    type(x): string\n",
    "    \"\"\"\n",
    "    # preprocess x[\" comment\"]\n",
    "    p = Preprocessing()\n",
    "    clean_text = p.simple_preprocessor_string(comment)\n",
    "    \n",
    "    word_matches = 0\n",
    "    for word in clean_text.split():\n",
    "        if word in keywordspace:\n",
    "            word_matches = word_matches + 1\n",
    "        else:\n",
    "            continue\n",
    "    if word_matches != None:\n",
    "        return word_matches\n",
    "    else:\n",
    "        return 0"
   ]
  },
  {
   "cell_type": "code",
   "execution_count": 25,
   "metadata": {},
   "outputs": [
    {
     "data": {
      "image/png": "[encoded data removed]",
      "text/plain": [
       "<Figure size 432x288 with 1 Axes>"
      ]
     },
     "metadata": {
      "needs_background": "light"
     },
     "output_type": "display_data"
    }
   ],
   "source": [
    "# plot distribution of adr word matches\n",
    "\n",
    "X = list()\n",
    "for _, x in df.iterrows():\n",
    "    X.append(adr_term_matching(x[\" comment\"]))\n",
    "plt.title(\"Distribution of ADR term matching across all datapoints\")\n",
    "plt.hist(X, bins = 20)\n",
    "plt.show()"
   ]
  },
  {
   "cell_type": "markdown",
   "metadata": {},
   "source": [
    "#### Asumption: \n",
    "Take matching score above below 10 as NOADR 10 to 20 as ABSTAIN and above 20 as ADR<br>\n",
    "`again, this is just a guess and you can play with these thresholds to get a better labeling function`"
   ]
  },
  {
   "cell_type": "code",
   "execution_count": 26,
   "metadata": {},
   "outputs": [],
   "source": [
    "@labeling_function()\n",
    "def simple_term_matching(x):\n",
    "    \"\"\"\n",
    "    type(x): pandas Series object\n",
    "    \"\"\"\n",
    "    score = adr_term_matching(x[\" comment\"])\n",
    "    if score != None:\n",
    "        if score <= 10 :\n",
    "            return NOADR\n",
    "        elif score > 10 and score < 20:\n",
    "            return ABSTAIN\n",
    "        elif score > 20:\n",
    "            return ADR\n",
    "    else:\n",
    "        return ABSTAIN\n",
    "    \n",
    "    return ABSTAIN"
   ]
  },
  {
   "cell_type": "markdown",
   "metadata": {},
   "source": [
    "## Apply LFs"
   ]
  },
  {
   "cell_type": "markdown",
   "metadata": {},
   "source": [
    "#### Creating a test set and a training set\n",
    "create a test set by manualy labelling the ADRs."
   ]
  },
  {
   "cell_type": "code",
   "execution_count": 29,
   "metadata": {},
   "outputs": [
    {
     "data": {
      "text/html": [
       "<div>\n",
       "<style scoped>\n",
       "    .dataframe tbody tr th:only-of-type {\n",
       "        vertical-align: middle;\n",
       "    }\n",
       "\n",
       "    .dataframe tbody tr th {\n",
       "        vertical-align: top;\n",
       "    }\n",
       "\n",
       "    .dataframe thead th {\n",
       "        text-align: right;\n",
       "    }\n",
       "</style>\n",
       "<table border=\"1\" class=\"dataframe\">\n",
       "  <thead>\n",
       "    <tr style=\"text-align: right;\">\n",
       "      <th></th>\n",
       "      <th>id</th>\n",
       "      <th>drugname</th>\n",
       "      <th>comment</th>\n",
       "      <th>label</th>\n",
       "    </tr>\n",
       "  </thead>\n",
       "  <tbody>\n",
       "    <tr>\n",
       "      <th>15</th>\n",
       "      <td>1</td>\n",
       "      <td>avelox</td>\n",
       "      <td>I have a chronic bacterial infection for which...</td>\n",
       "      <td>1</td>\n",
       "    </tr>\n",
       "    <tr>\n",
       "      <th>34</th>\n",
       "      <td>4</td>\n",
       "      <td>cipro</td>\n",
       "      <td>i was given cipro for kidney stones. i took it...</td>\n",
       "      <td>1</td>\n",
       "    </tr>\n",
       "    <tr>\n",
       "      <th>58</th>\n",
       "      <td>2</td>\n",
       "      <td>aricept</td>\n",
       "      <td>My father has only been on aricept for a short...</td>\n",
       "      <td>1</td>\n",
       "    </tr>\n",
       "    <tr>\n",
       "      <th>103</th>\n",
       "      <td>4</td>\n",
       "      <td>warfarin-sodium</td>\n",
       "      <td>The 1960 study of anti-coagulants for pulmonar...</td>\n",
       "      <td>0</td>\n",
       "    </tr>\n",
       "    <tr>\n",
       "      <th>5</th>\n",
       "      <td>5</td>\n",
       "      <td>levaquin</td>\n",
       "      <td>today was my 3rd day of taking levaquin. i suf...</td>\n",
       "      <td>1</td>\n",
       "    </tr>\n",
       "  </tbody>\n",
       "</table>\n",
       "</div>"
      ],
      "text/plain": [
       "     id         drugname                                            comment  \\\n",
       "15    1           avelox  I have a chronic bacterial infection for which...   \n",
       "34    4            cipro  i was given cipro for kidney stones. i took it...   \n",
       "58    2          aricept  My father has only been on aricept for a short...   \n",
       "103   4  warfarin-sodium  The 1960 study of anti-coagulants for pulmonar...   \n",
       "5     5         levaquin  today was my 3rd day of taking levaquin. i suf...   \n",
       "\n",
       "     label  \n",
       "15       1  \n",
       "34       1  \n",
       "58       1  \n",
       "103      0  \n",
       "5        1  "
      ]
     },
     "execution_count": 29,
     "metadata": {},
     "output_type": "execute_result"
    }
   ],
   "source": [
    "df_test = df.sample(10, random_state=3)\n",
    "df_test[\"label\"] = [1, 1, 1, 0, 1, 0, 0, 1, 1, 1]\n",
    "df_test.head()"
   ]
  },
  {
   "cell_type": "code",
   "execution_count": 58,
   "metadata": {},
   "outputs": [
    {
     "data": {
      "text/plain": [
       "(95, 3)"
      ]
     },
     "execution_count": 58,
     "metadata": {},
     "output_type": "execute_result"
    }
   ],
   "source": [
    "# make the training set\n",
    "drop_index_list = list(df_test.index)\n",
    "df_train = df.drop(drop_index_list)\n",
    "df_train.shape"
   ]
  },
  {
   "cell_type": "code",
   "execution_count": 59,
   "metadata": {},
   "outputs": [
    {
     "name": "stderr",
     "output_type": "stream",
     "text": [
      "/Users/jarvis/venvs/sadrat/lib/python3.7/site-packages/tqdm/std.py:648: FutureWarning: The Panel class is removed from pandas. Accessing it from the top-level namespace will also be removed in the next version\n",
      "  from pandas import Panel\n",
      "100%|██████████| 95/95 [00:00<00:00, 127.41it/s]\n"
     ]
    }
   ],
   "source": [
    "from snorkel.labeling import PandasLFApplier\n",
    "lfs = [textblob_polarity,\n",
    "       textblob_subjectivity,\n",
    "       distant_supervision,\n",
    "       simple_term_matching\n",
    "      ]\n",
    "applier = PandasLFApplier(lfs=lfs)\n",
    "L_train = applier.apply(df=df_train)"
   ]
  },
  {
   "cell_type": "markdown",
   "metadata": {},
   "source": [
    "### Evaluate Performance of LFs\n",
    "#### 1. Coverage Check"
   ]
  },
  {
   "cell_type": "code",
   "execution_count": 60,
   "metadata": {},
   "outputs": [
    {
     "name": "stdout",
     "output_type": "stream",
     "text": [
      "textblob_polarity coverage: 40.0%\n",
      "textblob_subjectivity coverage: 6.3%\n",
      "distant_supervision coverage: 53.7%\n",
      "simple_term_matching coverage: 58.9%\n"
     ]
    }
   ],
   "source": [
    "coverage_textblob_polarity, coverage_textblob_subjectivity, coverage_distant_supervision,\\\n",
    "coverage_simple_term_matching = (L_train != ABSTAIN).mean(axis=0)\n",
    "print(f\"textblob_polarity coverage: {coverage_textblob_polarity * 100:.1f}%\")\n",
    "print(f\"textblob_subjectivity coverage: {coverage_textblob_subjectivity * 100:.1f}%\")\n",
    "print(f\"distant_supervision coverage: {coverage_distant_supervision * 100:.1f}%\")\n",
    "print(f\"simple_term_matching coverage: {coverage_simple_term_matching * 100:.1f}%\")"
   ]
  },
  {
   "cell_type": "markdown",
   "metadata": {},
   "source": [
    "#### Statistical Analysis of LFs"
   ]
  },
  {
   "cell_type": "code",
   "execution_count": 61,
   "metadata": {},
   "outputs": [
    {
     "data": {
      "text/html": [
       "<div>\n",
       "<style scoped>\n",
       "    .dataframe tbody tr th:only-of-type {\n",
       "        vertical-align: middle;\n",
       "    }\n",
       "\n",
       "    .dataframe tbody tr th {\n",
       "        vertical-align: top;\n",
       "    }\n",
       "\n",
       "    .dataframe thead th {\n",
       "        text-align: right;\n",
       "    }\n",
       "</style>\n",
       "<table border=\"1\" class=\"dataframe\">\n",
       "  <thead>\n",
       "    <tr style=\"text-align: right;\">\n",
       "      <th></th>\n",
       "      <th>j</th>\n",
       "      <th>Polarity</th>\n",
       "      <th>Coverage</th>\n",
       "      <th>Overlaps</th>\n",
       "      <th>Conflicts</th>\n",
       "    </tr>\n",
       "  </thead>\n",
       "  <tbody>\n",
       "    <tr>\n",
       "      <th>textblob_polarity</th>\n",
       "      <td>0</td>\n",
       "      <td>[1]</td>\n",
       "      <td>0.400000</td>\n",
       "      <td>0.368421</td>\n",
       "      <td>0.021053</td>\n",
       "    </tr>\n",
       "    <tr>\n",
       "      <th>textblob_subjectivity</th>\n",
       "      <td>1</td>\n",
       "      <td>[1]</td>\n",
       "      <td>0.063158</td>\n",
       "      <td>0.063158</td>\n",
       "      <td>0.021053</td>\n",
       "    </tr>\n",
       "    <tr>\n",
       "      <th>distant_supervision</th>\n",
       "      <td>2</td>\n",
       "      <td>[1]</td>\n",
       "      <td>0.536842</td>\n",
       "      <td>0.389474</td>\n",
       "      <td>0.021053</td>\n",
       "    </tr>\n",
       "    <tr>\n",
       "      <th>simple_term_matching</th>\n",
       "      <td>3</td>\n",
       "      <td>[0, 1]</td>\n",
       "      <td>0.589474</td>\n",
       "      <td>0.452632</td>\n",
       "      <td>0.052632</td>\n",
       "    </tr>\n",
       "  </tbody>\n",
       "</table>\n",
       "</div>"
      ],
      "text/plain": [
       "                       j Polarity  Coverage  Overlaps  Conflicts\n",
       "textblob_polarity      0      [1]  0.400000  0.368421   0.021053\n",
       "textblob_subjectivity  1      [1]  0.063158  0.063158   0.021053\n",
       "distant_supervision    2      [1]  0.536842  0.389474   0.021053\n",
       "simple_term_matching   3   [0, 1]  0.589474  0.452632   0.052632"
      ]
     },
     "execution_count": 61,
     "metadata": {},
     "output_type": "execute_result"
    }
   ],
   "source": [
    "from snorkel.labeling import LFAnalysis\n",
    "\n",
    "LFAnalysis(L=L_train, lfs=lfs).lf_summary()"
   ]
  },
  {
   "cell_type": "code",
   "execution_count": 62,
   "metadata": {},
   "outputs": [
    {
     "name": "stderr",
     "output_type": "stream",
     "text": [
      "/Users/jarvis/venvs/sadrat/lib/python3.7/site-packages/tqdm/std.py:648: FutureWarning: The Panel class is removed from pandas. Accessing it from the top-level namespace will also be removed in the next version\n",
      "  from pandas import Panel\n",
      "100%|██████████| 10/10 [00:00<00:00, 125.91it/s]\n"
     ]
    }
   ],
   "source": [
    "L_dev = applier.apply(df=df_test)"
   ]
  },
  {
   "cell_type": "markdown",
   "metadata": {},
   "source": [
    "#### Checking Empirical Accuracy of different LFs"
   ]
  },
  {
   "cell_type": "code",
   "execution_count": 63,
   "metadata": {},
   "outputs": [
    {
     "data": {
      "text/html": [
       "<div>\n",
       "<style scoped>\n",
       "    .dataframe tbody tr th:only-of-type {\n",
       "        vertical-align: middle;\n",
       "    }\n",
       "\n",
       "    .dataframe tbody tr th {\n",
       "        vertical-align: top;\n",
       "    }\n",
       "\n",
       "    .dataframe thead th {\n",
       "        text-align: right;\n",
       "    }\n",
       "</style>\n",
       "<table border=\"1\" class=\"dataframe\">\n",
       "  <thead>\n",
       "    <tr style=\"text-align: right;\">\n",
       "      <th></th>\n",
       "      <th>j</th>\n",
       "      <th>Polarity</th>\n",
       "      <th>Coverage</th>\n",
       "      <th>Overlaps</th>\n",
       "      <th>Conflicts</th>\n",
       "      <th>Correct</th>\n",
       "      <th>Incorrect</th>\n",
       "      <th>Emp. Acc.</th>\n",
       "    </tr>\n",
       "  </thead>\n",
       "  <tbody>\n",
       "    <tr>\n",
       "      <th>textblob_polarity</th>\n",
       "      <td>0</td>\n",
       "      <td>[1]</td>\n",
       "      <td>0.4</td>\n",
       "      <td>0.4</td>\n",
       "      <td>0.1</td>\n",
       "      <td>2</td>\n",
       "      <td>2</td>\n",
       "      <td>0.500000</td>\n",
       "    </tr>\n",
       "    <tr>\n",
       "      <th>textblob_subjectivity</th>\n",
       "      <td>1</td>\n",
       "      <td>[1]</td>\n",
       "      <td>0.1</td>\n",
       "      <td>0.1</td>\n",
       "      <td>0.0</td>\n",
       "      <td>1</td>\n",
       "      <td>0</td>\n",
       "      <td>1.000000</td>\n",
       "    </tr>\n",
       "    <tr>\n",
       "      <th>distant_supervision</th>\n",
       "      <td>2</td>\n",
       "      <td>[1]</td>\n",
       "      <td>0.7</td>\n",
       "      <td>0.5</td>\n",
       "      <td>0.1</td>\n",
       "      <td>6</td>\n",
       "      <td>1</td>\n",
       "      <td>0.857143</td>\n",
       "    </tr>\n",
       "    <tr>\n",
       "      <th>simple_term_matching</th>\n",
       "      <td>3</td>\n",
       "      <td>[0, 1]</td>\n",
       "      <td>0.8</td>\n",
       "      <td>0.8</td>\n",
       "      <td>0.2</td>\n",
       "      <td>6</td>\n",
       "      <td>2</td>\n",
       "      <td>0.750000</td>\n",
       "    </tr>\n",
       "  </tbody>\n",
       "</table>\n",
       "</div>"
      ],
      "text/plain": [
       "                       j Polarity  Coverage  Overlaps  Conflicts  Correct  \\\n",
       "textblob_polarity      0      [1]       0.4       0.4        0.1        2   \n",
       "textblob_subjectivity  1      [1]       0.1       0.1        0.0        1   \n",
       "distant_supervision    2      [1]       0.7       0.5        0.1        6   \n",
       "simple_term_matching   3   [0, 1]       0.8       0.8        0.2        6   \n",
       "\n",
       "                       Incorrect  Emp. Acc.  \n",
       "textblob_polarity              2   0.500000  \n",
       "textblob_subjectivity          0   1.000000  \n",
       "distant_supervision            1   0.857143  \n",
       "simple_term_matching           2   0.750000  "
      ]
     },
     "execution_count": 63,
     "metadata": {},
     "output_type": "execute_result"
    }
   ],
   "source": [
    "LFAnalysis(L=L_dev, lfs=lfs).lf_summary(Y=df_test.label.values)"
   ]
  },
  {
   "cell_type": "markdown",
   "metadata": {},
   "source": [
    "We see that our labeling functions vary in coverage, accuracy, and how much they overlap/conflict with one another. We can view a histogram of how many LF labels the data points in our dev set have to get an idea of our total coverage."
   ]
  },
  {
   "cell_type": "code",
   "execution_count": 33,
   "metadata": {},
   "outputs": [],
   "source": [
    "def plot_label_frequency(L):\n",
    "    plt.hist((L != ABSTAIN).sum(axis=1), density=True, bins=range(L.shape[1]))\n",
    "    plt.xlabel(\"Number of labels\")\n",
    "    plt.ylabel(\"Fraction of dataset\")"
   ]
  },
  {
   "cell_type": "code",
   "execution_count": 64,
   "metadata": {},
   "outputs": [
    {
     "data": {
      "image/png": "[encoded data removed]",
      "text/plain": [
       "<Figure size 432x288 with 2 Axes>"
      ]
     },
     "metadata": {
      "needs_background": "light"
     },
     "output_type": "display_data"
    }
   ],
   "source": [
    "plt.subplot(1,2,1)\n",
    "plot_label_frequency(L_train)\n",
    "plt.subplots_adjust(hspace=1, left=0.225, right=2, wspace=0.2)\n",
    "plt.subplot(1,2,2)\n",
    "plot_label_frequency(L_dev)\n",
    "plt.show()"
   ]
  },
  {
   "cell_type": "markdown",
   "metadata": {},
   "source": [
    "More than 50% of the training dataset is labelled by 2-3 LFs and more than 70% of the test set is labelled by 2-3 LFs.<br>\n",
    "Our goal is now to convert the labels from our LFs into a single _noise-aware_ probabilistic (or confidence-weighted) label per data point.\n",
    "A simple baseline for doing this is to take the majority vote on a per-data point basis: if more LFs voted ADR than NOADR, label it ADR (and vice versa).\n",
    "We can test this with the\n",
    "[`MajorityLabelVoter` baseline model](https://snorkel.readthedocs.io/en/master/packages/_autosummary/labeling/snorkel.labeling.MajorityLabelVoter.html#snorkel.labeling.MajorityLabelVoter)."
   ]
  },
  {
   "cell_type": "code",
   "execution_count": 65,
   "metadata": {},
   "outputs": [],
   "source": [
    "from snorkel.labeling import MajorityLabelVoter\n",
    "\n",
    "majority_model = MajorityLabelVoter()\n",
    "preds_train = majority_model.predict(L=L_train)"
   ]
  },
  {
   "cell_type": "code",
   "execution_count": 66,
   "metadata": {},
   "outputs": [
    {
     "data": {
      "text/plain": [
       "array([ 1, -1,  1,  1,  1,  1,  1,  1,  1, -1,  1,  1,  1,  1,  1,  1, -1,\n",
       "        1,  1,  0,  0, -1,  1,  1,  1,  1, -1,  1,  1,  1,  1,  1,  1,  0,\n",
       "        1,  1,  1, -1,  1,  1,  1,  1,  1,  1,  1,  0,  1,  1, -1,  0,  1,\n",
       "        1, -1,  1,  1,  1,  1,  1, -1,  1, -1,  1,  1,  1,  1, -1,  1,  1,\n",
       "        1, -1,  1,  1,  0, -1, -1,  0,  1,  1, -1,  1,  1,  0,  1,  1,  1,\n",
       "        1,  1,  1,  1,  1, -1,  1, -1,  1,  0])"
      ]
     },
     "execution_count": 66,
     "metadata": {},
     "output_type": "execute_result"
    }
   ],
   "source": [
    "preds_train"
   ]
  },
  {
   "cell_type": "markdown",
   "metadata": {},
   "source": [
    "However, as we can clearly see by looking the summary statistics of our LFs, they are not all equally accurate, and should not be treated identically. In addition to having varied accuracies and coverages, LFs may be correlated, resulting in certain signals being overrepresented in a majority-vote-based model. To handle these issues appropriately, we will instead use a more sophisticated Snorkel `LabelModel` to combine the outputs of the LFs.\n",
    "\n",
    "This model will ultimately produce a single set of noise-aware training labels, which are probabilistic or confidence-weighted labels. We will then use these labels to train a classifier for our task. For more technical details of this overall approach, see [NeurIPS 2016](https://arxiv.org/abs/1605.07723) and [AAAI 2019](https://arxiv.org/abs/1810.02840) papers. For more info on the API, see the [`LabelModel` documentation](https://snorkel.readthedocs.io/en/master/packages/_autosummary/labeling/snorkel.labeling.LabelModel.html#snorkel.labeling.LabelModel).\n",
    "\n",
    "Note that no gold labels are used during the training process.\n",
    "The only information we need is the label matrix, which contains the output of the LFs on our training set.\n",
    "The `LabelModel` is able to learn weights for the labeling functions using only the label matrix as input.\n",
    "We also specify the `cardinality`, or number of classes.\n",
    "The `LabelModel` trains much more quickly than typical discriminative models since we only need the label matrix as input."
   ]
  },
  {
   "cell_type": "code",
   "execution_count": 67,
   "metadata": {},
   "outputs": [],
   "source": [
    "from snorkel.labeling import LabelModel\n",
    "\n",
    "label_model = LabelModel(cardinality=2, verbose=True)\n",
    "label_model.fit(L_train=L_train, n_epochs=1000, lr=0.001, log_freq=100, seed=123)"
   ]
  },
  {
   "cell_type": "code",
   "execution_count": 68,
   "metadata": {},
   "outputs": [
    {
     "name": "stderr",
     "output_type": "stream",
     "text": [
      "WARNING:root:Metrics calculated over data points with non-abstain labels only\n",
      "WARNING:root:Metrics calculated over data points with non-abstain labels only\n"
     ]
    },
    {
     "name": "stdout",
     "output_type": "stream",
     "text": [
      "Majority Vote Accuracy:   75.0%\n",
      "Label Model Accuracy:     70.0%\n"
     ]
    }
   ],
   "source": [
    "majority_acc = majority_model.score(L=L_dev, Y=df_test.label.values)[\"accuracy\"]\n",
    "print(f\"{'Majority Vote Accuracy:':<25} {majority_acc * 100:.1f}%\")\n",
    "\n",
    "label_model_acc = label_model.score(L=L_dev, Y=df_test.label.values)[\"accuracy\"]\n",
    "print(f\"{'Label Model Accuracy:':<25} {label_model_acc * 100:.1f}%\")"
   ]
  },
  {
   "cell_type": "markdown",
   "metadata": {},
   "source": [
    "Let's briefly confirm that the labels the `LabelModel` produces are probabilistic in nature.\n",
    "The following histogram shows the confidences we have that each data point has the label SPAM.\n",
    "The points we are least certain about will have labels close to 0.5."
   ]
  },
  {
   "cell_type": "code",
   "execution_count": 89,
   "metadata": {},
   "outputs": [
    {
     "data": {
      "image/png": "[encoded data removed]",
      "text/plain": [
       "<Figure size 432x288 with 1 Axes>"
      ]
     },
     "metadata": {
      "needs_background": "light"
     },
     "output_type": "display_data"
    }
   ],
   "source": [
    "def plot_probabilities_histogram(Y):\n",
    "    plt.hist(Y, bins=10)\n",
    "    plt.xlabel(\"Probability of ADR\")\n",
    "    plt.ylabel(\"Number of data points\")\n",
    "    plt.savefig(\"prob_adr.png\", bbox_inches=\"tight\", dpi=300, pad_inches=0.1)\n",
    "    plt.show()\n",
    "\n",
    "\n",
    "probs_train = label_model.predict_proba(L=L_train)\n",
    "plot_probabilities_histogram(probs_train[:, ADR])"
   ]
  },
  {
   "cell_type": "markdown",
   "metadata": {},
   "source": [
    "### Filtering out unlabeled data points\n",
    "As we saw earlier, some of the data points in our `train` set received no labels from any of our LFs.\n",
    "These data points convey no supervision signal and tend to hurt performance, so we filter them out before training using a\n",
    "[built-in utility](https://snorkel.readthedocs.io/en/master/packages/_autosummary/labeling/snorkel.labeling.filter_unlabeled_dataframe.html#snorkel.labeling.filter_unlabeled_dataframe)."
   ]
  },
  {
   "cell_type": "code",
   "execution_count": 71,
   "metadata": {},
   "outputs": [],
   "source": [
    "from snorkel.labeling import filter_unlabeled_dataframe\n",
    "\n",
    "df_train_filtered, probs_train_filtered = filter_unlabeled_dataframe(\n",
    "    X=df_train, y=probs_train, L=L_train\n",
    ")"
   ]
  },
  {
   "cell_type": "markdown",
   "metadata": {},
   "source": [
    "## Training a Classifier"
   ]
  },
  {
   "cell_type": "markdown",
   "metadata": {},
   "source": [
    "Now we'll use the noisy training labels we generated in the last section to train a classifier for our task.\n",
    "**The output of the Snorkel `LabelModel` is just a set of labels which can be used with most popular libraries for performing supervised learning, such as TensorFlow, Keras, PyTorch, Scikit-Learn, Ludwig, and XGBoost etc.**\n",
    "In this tutorial, we demonstrate using classifiers from [Keras](https://keras.io) and [Scikit-Learn](https://scikit-learn.org)."
   ]
  },
  {
   "cell_type": "markdown",
   "metadata": {},
   "source": [
    "\n",
    "### Featurization"
   ]
  },
  {
   "cell_type": "code",
   "execution_count": 86,
   "metadata": {},
   "outputs": [],
   "source": [
    "from sklearn.feature_extraction.text import TfidfVectorizer\n",
    "vectorizer = TfidfVectorizer(stop_words=\"english\", ngram_range=(1,2))\n",
    "X_train = vectorizer.fit_transform(df_train_filtered[\" comment\"].tolist())\n",
    "X_test = vectorizer.transform(df_test[\" comment\"].tolist())"
   ]
  },
  {
   "cell_type": "markdown",
   "metadata": {},
   "source": [
    "### Scikit-Learn with Rounded Labels"
   ]
  },
  {
   "cell_type": "markdown",
   "metadata": {},
   "source": [
    "If we want to use a library or model that doesn't accept probabilistic labels, we can replace each label distribution with the label of the class that has the maximum probability.\n",
    "This can easily be done using the\n",
    "[`probs_to_preds` helper method](https://snorkel.readthedocs.io/en/master/packages/_autosummary/utils/snorkel.utils.probs_to_preds.html#snorkel.utils.probs_to_preds).\n",
    "It's important to note that this transformation is lossy, as we no longer have values for our confidence in each label."
   ]
  },
  {
   "cell_type": "code",
   "execution_count": 73,
   "metadata": {},
   "outputs": [],
   "source": [
    "from snorkel.utils import probs_to_preds\n",
    "\n",
    "preds_train_filtered = probs_to_preds(probs=probs_train_filtered)"
   ]
  },
  {
   "cell_type": "markdown",
   "metadata": {},
   "source": [
    "This allows us to use standard models of scikit-learn"
   ]
  },
  {
   "cell_type": "code",
   "execution_count": 74,
   "metadata": {},
   "outputs": [
    {
     "data": {
      "text/plain": [
       "LogisticRegression(C=0.001, class_weight=None, dual=False, fit_intercept=True,\n",
       "                   intercept_scaling=1, l1_ratio=None, max_iter=100,\n",
       "                   multi_class='warn', n_jobs=None, penalty='l2',\n",
       "                   random_state=None, solver='liblinear', tol=0.0001, verbose=0,\n",
       "                   warm_start=False)"
      ]
     },
     "execution_count": 74,
     "metadata": {},
     "output_type": "execute_result"
    }
   ],
   "source": [
    "from sklearn.linear_model import LogisticRegression\n",
    "\n",
    "sklearn_model = LogisticRegression(C=0.001, solver=\"liblinear\")\n",
    "sklearn_model.fit(X=X_train, y=preds_train_filtered)"
   ]
  },
  {
   "cell_type": "code",
   "execution_count": 88,
   "metadata": {},
   "outputs": [
    {
     "name": "stdout",
     "output_type": "stream",
     "text": [
      "Test Accuracy: 70.0%\n"
     ]
    }
   ],
   "source": [
    "Y_test = df_test[\"label\"].values\n",
    "print(f\"Test Accuracy: {sklearn_model.score(X=X_test, y=Y_test) * 100:.1f}%\")"
   ]
  },
  {
   "cell_type": "code",
   "execution_count": 4,
   "metadata": {},
   "outputs": [
    {
     "name": "stdout",
     "output_type": "stream",
     "text": [
      "k\n",
      "bye\n",
      "hey\n"
     ]
    }
   ],
   "source": [
    "if(print(\"k\") or print(\"bye\")):\n",
    "    print(\"hello\")\n",
    "else:\n",
    "    print(\"hey\")"
   ]
  },
  {
   "cell_type": "code",
   "execution_count": null,
   "metadata": {},
   "outputs": [],
   "source": []
  }
 ],
 "metadata": {
  "kernelspec": {
   "display_name": "sadrat",
   "language": "python",
   "name": "sadrat"
  },
  "language_info": {
   "codemirror_mode": {
    "name": "ipython",
    "version": 3
   },
   "file_extension": ".py",
   "mimetype": "text/x-python",
   "name": "python",
   "nbconvert_exporter": "python",
   "pygments_lexer": "ipython3",
   "version": "3.7.2"
  }
 },
 "nbformat": 4,
 "nbformat_minor": 2
}
